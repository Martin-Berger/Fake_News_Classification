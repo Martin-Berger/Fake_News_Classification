{
 "cells": [
  {
   "cell_type": "markdown",
   "metadata": {},
   "source": [
    "# Logistic regression model and processed data (dtm, tf-idf, NB)"
   ]
  },
  {
   "cell_type": "code",
   "execution_count": 1,
   "metadata": {
    "ExecuteTime": {
     "end_time": "2018-04-06T00:41:58.120814Z",
     "start_time": "2018-04-06T00:41:56.313596Z"
    }
   },
   "outputs": [
    {
     "name": "stderr",
     "output_type": "stream",
     "text": [
      "/usr/local/Cellar/python3/3.6.4_2/Frameworks/Python.framework/Versions/3.6/lib/python3.6/site-packages/statsmodels/compat/pandas.py:56: FutureWarning: The pandas.core.datetools module is deprecated and will be removed in a future version. Please use the pandas.tseries module instead.\n",
      "  from pandas.core import datetools\n"
     ]
    }
   ],
   "source": [
    "from pprint import pprint\n",
    "from collections import Counter, defaultdict\n",
    "import numpy as np\n",
    "import multiprocessing as multi\n",
    "import random\n",
    "import matplotlib\n",
    "import matplotlib.pyplot as plt\n",
    "from pandas import *\n",
    "import seaborn as sns\n",
    "from sklearn import datasets, model_selection, metrics\n",
    "from sklearn.feature_selection import RFE\n",
    "from sklearn.linear_model import LogisticRegression\n",
    "from sklearn.model_selection import cross_val_score\n",
    "import statsmodels.api as sm\n",
    "from mlxtend.plotting import plot_confusion_matrix\n",
    "from sklearn.metrics import roc_auc_score\n",
    "from sklearn.metrics import roc_curve\n",
    "import re, string\n",
    "from scipy import sparse\n",
    "from sklearn.pipeline import Pipeline, FeatureUnion\n",
    "%matplotlib inline\n",
    "from sklearn.feature_extraction.text import CountVectorizer, TfidfVectorizer"
   ]
  },
  {
   "cell_type": "markdown",
   "metadata": {},
   "source": [
    "## Data importation\n",
    "* run posts_extraction.py before working on the data"
   ]
  },
  {
   "cell_type": "code",
   "execution_count": 2,
   "metadata": {
    "ExecuteTime": {
     "end_time": "2018-04-06T00:41:58.730773Z",
     "start_time": "2018-04-06T00:41:58.123834Z"
    }
   },
   "outputs": [
    {
     "name": "stdout",
     "output_type": "stream",
     "text": [
      "  post_id              website     post_author  \\\n",
      "0  4zmar5          trunews.com      removalbot   \n",
      "1   m9isb    pakalertpress.com      timestoday   \n",
      "2  7g01mi  100percentfedup.com        bfwilley   \n",
      "3  4i1bqo       musictimes.com  Poster_Nutsack   \n",
      "4  84jdi0          trunews.com      removalbot   \n",
      "\n",
      "                                          post_title  post_num_comments  \\\n",
      "0  08-26 02:16 - 'Euro Banks Profits in Free Fall...                  0   \n",
      "1  The people must have a normal country, through...                  2   \n",
      "2  Roy Moore witch hunt unravelling: More witness...                 24   \n",
      "3  Musictimes.com article about ticket prices for...                 10   \n",
      "4  03-15 03:03 - 'Musk Calls For Space Colonizati...                  0   \n",
      "\n",
      "   post_subreddit_subscribers post_subreddit_name_prefixed  \\\n",
      "0                         506                 r/removalbot   \n",
      "1                     3748992                   r/politics   \n",
      "2                        8406           r/AmericanPolitics   \n",
      "3                       25729                      r/phish   \n",
      "4                         506                 r/removalbot   \n",
      "\n",
      "                                       post_selftext  \\\n",
      "0  [Euro Banks Profits in Free Fall Across All So...   \n",
      "1  The media in the United States is one large wa...   \n",
      "2                                                NaN   \n",
      "3                                                NaN   \n",
      "4  [Musk Calls For Space Colonization as Failsafe...   \n",
      "\n",
      "                                            comments  post_upvotes    ...     \\\n",
      "0                                                 []             1    ...      \n",
      "1  [\"Tolerance and peace only lasts as long as ec...             0    ...      \n",
      "2  ['**Sardonic_Samurai** too true when you want ...             0    ...      \n",
      "3  ['This article is garbage. Just because the li...             0    ...      \n",
      "4                                                 []             1    ...      \n",
      "\n",
      "   user_is_gold user_is_mod  user_link_karma  user_comment_karma  \\\n",
      "0         False        True             2535                  13   \n",
      "1         False       False                1                   0   \n",
      "2         False       False           268086               11239   \n",
      "3         False        True             1907                3512   \n",
      "4         False        True             2535                  13   \n",
      "\n",
      "   subreddit_active_user_count  subreddit_advertiser_category  \\\n",
      "0                          228                            NaN   \n",
      "1                        19686                     Lifestyles   \n",
      "2                            5                            NaN   \n",
      "3                           74                            NaN   \n",
      "4                          253                            NaN   \n",
      "\n",
      "   subreddit_audience_target doubt fake  reliable  \n",
      "0                        NaN     0    1         0  \n",
      "1                 local,news     0    1         0  \n",
      "2                        NaN     1    0         0  \n",
      "3                        NaN     0    0         1  \n",
      "4                        NaN     0    1         0  \n",
      "\n",
      "[5 rows x 22 columns]\n",
      "<class 'pandas.core.frame.DataFrame'>\n",
      "RangeIndex: 9894 entries, 0 to 9893\n",
      "Data columns (total 22 columns):\n",
      "post_id                          9894 non-null object\n",
      "website                          9894 non-null object\n",
      "post_author                      9894 non-null object\n",
      "post_title                       9894 non-null object\n",
      "post_num_comments                9894 non-null int64\n",
      "post_subreddit_subscribers       9894 non-null int64\n",
      "post_subreddit_name_prefixed     9894 non-null object\n",
      "post_selftext                    8153 non-null object\n",
      "comments                         9894 non-null object\n",
      "post_upvotes                     9894 non-null int64\n",
      "user_created                     9894 non-null float64\n",
      "user_has_verified_email          9232 non-null object\n",
      "user_is_gold                     9894 non-null bool\n",
      "user_is_mod                      9894 non-null bool\n",
      "user_link_karma                  9894 non-null int64\n",
      "user_comment_karma               9894 non-null int64\n",
      "subreddit_active_user_count      9894 non-null int64\n",
      "subreddit_advertiser_category    2331 non-null object\n",
      "subreddit_audience_target        3140 non-null object\n",
      "doubt                            9894 non-null int64\n",
      "fake                             9894 non-null int64\n",
      "reliable                         9894 non-null int64\n",
      "dtypes: bool(2), float64(1), int64(9), object(10)\n",
      "memory usage: 1.5+ MB\n"
     ]
    }
   ],
   "source": [
    "data = read_csv('post_training.csv')\n",
    "print(data.head())\n",
    "data[\"fake\"] = data['doubt'] + data['fake']\n",
    "data.info()"
   ]
  },
  {
   "cell_type": "markdown",
   "metadata": {},
   "source": [
    "### Creation of new feature based on several properties of each text field\n",
    "\n",
    "* Lenght of each text\n",
    "* Number of exclamation point (relevant information for clickbaits) for each text\n",
    "* Number of capital letter for each text"
   ]
  },
  {
   "cell_type": "code",
   "execution_count": 3,
   "metadata": {
    "ExecuteTime": {
     "end_time": "2018-04-06T00:42:13.016637Z",
     "start_time": "2018-04-06T00:41:58.733161Z"
    }
   },
   "outputs": [],
   "source": [
    "for index,comments in data.iterrows():\n",
    "    data.at[index, \"comments_count_cap\"] = sum(1 for c in data[\"comments\"][index] if c.isupper())\n",
    "    data.at[index, \"title_count_cap\"] = sum(1 for c in data[\"post_title\"][index] if c.isupper())\n",
    "    try:\n",
    "        data.at[index, \"text_count_cap\"] = sum(1 for c in data[\"post_selftext\"][index] if c.isupper())\n",
    "        data.at[index, \"text_count_excl\"] = data[\"post_selftext\"][index].count(\"!\")\n",
    "        data.at[index, \"text_len\"] = len(data[\"post_selftext\"][index])\n",
    "    except:\n",
    "        pass\n",
    "    data.at[index, \"comments_count_excl\"] = sum(c.count('!') for c in data[\"comments\"][index])\n",
    "    data.at[index, \"title_count_excl\"] = data[\"post_title\"][index].count(\"!\") \n",
    "    data.at[index, \"comments_len\"] = sum(len(c) for c in data[\"comments\"][index])\n",
    "    data.at[index, \"title_len\"] = len(data[\"post_title\"][index])     "
   ]
  },
  {
   "cell_type": "markdown",
   "metadata": {},
   "source": [
    "### Overview of the data based on correlation\n",
    "\n",
    "* We can see important correlation between some feature in the dataset.\n",
    "* Those information will not be so relevant for the rest of the script, this script is more focused on the NLP part for Gorgias presentation"
   ]
  },
  {
   "cell_type": "code",
   "execution_count": 4,
   "metadata": {
    "ExecuteTime": {
     "end_time": "2018-04-06T00:42:13.086229Z",
     "start_time": "2018-04-06T00:42:13.019696Z"
    }
   },
   "outputs": [
    {
     "data": {
      "text/html": [
       "<div>\n",
       "<style scoped>\n",
       "    .dataframe tbody tr th:only-of-type {\n",
       "        vertical-align: middle;\n",
       "    }\n",
       "\n",
       "    .dataframe tbody tr th {\n",
       "        vertical-align: top;\n",
       "    }\n",
       "\n",
       "    .dataframe thead th {\n",
       "        text-align: right;\n",
       "    }\n",
       "</style>\n",
       "<table border=\"1\" class=\"dataframe\">\n",
       "  <thead>\n",
       "    <tr style=\"text-align: right;\">\n",
       "      <th></th>\n",
       "      <th>post_id</th>\n",
       "      <th>website</th>\n",
       "      <th>post_author</th>\n",
       "      <th>post_title</th>\n",
       "      <th>post_num_comments</th>\n",
       "      <th>post_subreddit_subscribers</th>\n",
       "      <th>post_subreddit_name_prefixed</th>\n",
       "      <th>post_selftext</th>\n",
       "      <th>comments</th>\n",
       "      <th>post_upvotes</th>\n",
       "      <th>...</th>\n",
       "      <th>reliable</th>\n",
       "      <th>comments_count_cap</th>\n",
       "      <th>title_count_cap</th>\n",
       "      <th>text_count_cap</th>\n",
       "      <th>text_count_excl</th>\n",
       "      <th>text_len</th>\n",
       "      <th>comments_count_excl</th>\n",
       "      <th>title_count_excl</th>\n",
       "      <th>comments_len</th>\n",
       "      <th>title_len</th>\n",
       "    </tr>\n",
       "  </thead>\n",
       "  <tbody>\n",
       "    <tr>\n",
       "      <th>0</th>\n",
       "      <td>4zmar5</td>\n",
       "      <td>trunews.com</td>\n",
       "      <td>removalbot</td>\n",
       "      <td>08-26 02:16 - 'Euro Banks Profits in Free Fall...</td>\n",
       "      <td>0</td>\n",
       "      <td>506</td>\n",
       "      <td>r/removalbot</td>\n",
       "      <td>[Euro Banks Profits in Free Fall Across All So...</td>\n",
       "      <td>[]</td>\n",
       "      <td>1</td>\n",
       "      <td>...</td>\n",
       "      <td>0</td>\n",
       "      <td>0.0</td>\n",
       "      <td>9.0</td>\n",
       "      <td>10.0</td>\n",
       "      <td>0.0</td>\n",
       "      <td>265.0</td>\n",
       "      <td>0.0</td>\n",
       "      <td>0.0</td>\n",
       "      <td>2.0</td>\n",
       "      <td>172.0</td>\n",
       "    </tr>\n",
       "    <tr>\n",
       "      <th>1</th>\n",
       "      <td>m9isb</td>\n",
       "      <td>pakalertpress.com</td>\n",
       "      <td>timestoday</td>\n",
       "      <td>The people must have a normal country, through...</td>\n",
       "      <td>2</td>\n",
       "      <td>3748992</td>\n",
       "      <td>r/politics</td>\n",
       "      <td>The media in the United States is one large wa...</td>\n",
       "      <td>[\"Tolerance and peace only lasts as long as ec...</td>\n",
       "      <td>0</td>\n",
       "      <td>...</td>\n",
       "      <td>0</td>\n",
       "      <td>3.0</td>\n",
       "      <td>1.0</td>\n",
       "      <td>45.0</td>\n",
       "      <td>1.0</td>\n",
       "      <td>2801.0</td>\n",
       "      <td>0.0</td>\n",
       "      <td>0.0</td>\n",
       "      <td>176.0</td>\n",
       "      <td>139.0</td>\n",
       "    </tr>\n",
       "    <tr>\n",
       "      <th>2</th>\n",
       "      <td>7g01mi</td>\n",
       "      <td>100percentfedup.com</td>\n",
       "      <td>bfwilley</td>\n",
       "      <td>Roy Moore witch hunt unravelling: More witness...</td>\n",
       "      <td>24</td>\n",
       "      <td>8406</td>\n",
       "      <td>r/AmericanPolitics</td>\n",
       "      <td>NaN</td>\n",
       "      <td>['**Sardonic_Samurai** too true when you want ...</td>\n",
       "      <td>0</td>\n",
       "      <td>...</td>\n",
       "      <td>0</td>\n",
       "      <td>45.0</td>\n",
       "      <td>9.0</td>\n",
       "      <td>NaN</td>\n",
       "      <td>NaN</td>\n",
       "      <td>NaN</td>\n",
       "      <td>2.0</td>\n",
       "      <td>1.0</td>\n",
       "      <td>1413.0</td>\n",
       "      <td>135.0</td>\n",
       "    </tr>\n",
       "    <tr>\n",
       "      <th>3</th>\n",
       "      <td>4i1bqo</td>\n",
       "      <td>musictimes.com</td>\n",
       "      <td>Poster_Nutsack</td>\n",
       "      <td>Musictimes.com article about ticket prices for...</td>\n",
       "      <td>10</td>\n",
       "      <td>25729</td>\n",
       "      <td>r/phish</td>\n",
       "      <td>NaN</td>\n",
       "      <td>['This article is garbage. Just because the li...</td>\n",
       "      <td>0</td>\n",
       "      <td>...</td>\n",
       "      <td>1</td>\n",
       "      <td>43.0</td>\n",
       "      <td>4.0</td>\n",
       "      <td>NaN</td>\n",
       "      <td>NaN</td>\n",
       "      <td>NaN</td>\n",
       "      <td>4.0</td>\n",
       "      <td>0.0</td>\n",
       "      <td>934.0</td>\n",
       "      <td>78.0</td>\n",
       "    </tr>\n",
       "    <tr>\n",
       "      <th>4</th>\n",
       "      <td>84jdi0</td>\n",
       "      <td>trunews.com</td>\n",
       "      <td>removalbot</td>\n",
       "      <td>03-15 03:03 - 'Musk Calls For Space Colonizati...</td>\n",
       "      <td>0</td>\n",
       "      <td>506</td>\n",
       "      <td>r/removalbot</td>\n",
       "      <td>[Musk Calls For Space Colonization as Failsafe...</td>\n",
       "      <td>[]</td>\n",
       "      <td>1</td>\n",
       "      <td>...</td>\n",
       "      <td>0</td>\n",
       "      <td>0.0</td>\n",
       "      <td>9.0</td>\n",
       "      <td>11.0</td>\n",
       "      <td>0.0</td>\n",
       "      <td>293.0</td>\n",
       "      <td>0.0</td>\n",
       "      <td>0.0</td>\n",
       "      <td>2.0</td>\n",
       "      <td>158.0</td>\n",
       "    </tr>\n",
       "  </tbody>\n",
       "</table>\n",
       "<p>5 rows × 31 columns</p>\n",
       "</div>"
      ],
      "text/plain": [
       "  post_id              website     post_author  \\\n",
       "0  4zmar5          trunews.com      removalbot   \n",
       "1   m9isb    pakalertpress.com      timestoday   \n",
       "2  7g01mi  100percentfedup.com        bfwilley   \n",
       "3  4i1bqo       musictimes.com  Poster_Nutsack   \n",
       "4  84jdi0          trunews.com      removalbot   \n",
       "\n",
       "                                          post_title  post_num_comments  \\\n",
       "0  08-26 02:16 - 'Euro Banks Profits in Free Fall...                  0   \n",
       "1  The people must have a normal country, through...                  2   \n",
       "2  Roy Moore witch hunt unravelling: More witness...                 24   \n",
       "3  Musictimes.com article about ticket prices for...                 10   \n",
       "4  03-15 03:03 - 'Musk Calls For Space Colonizati...                  0   \n",
       "\n",
       "   post_subreddit_subscribers post_subreddit_name_prefixed  \\\n",
       "0                         506                 r/removalbot   \n",
       "1                     3748992                   r/politics   \n",
       "2                        8406           r/AmericanPolitics   \n",
       "3                       25729                      r/phish   \n",
       "4                         506                 r/removalbot   \n",
       "\n",
       "                                       post_selftext  \\\n",
       "0  [Euro Banks Profits in Free Fall Across All So...   \n",
       "1  The media in the United States is one large wa...   \n",
       "2                                                NaN   \n",
       "3                                                NaN   \n",
       "4  [Musk Calls For Space Colonization as Failsafe...   \n",
       "\n",
       "                                            comments  post_upvotes    ...      \\\n",
       "0                                                 []             1    ...       \n",
       "1  [\"Tolerance and peace only lasts as long as ec...             0    ...       \n",
       "2  ['**Sardonic_Samurai** too true when you want ...             0    ...       \n",
       "3  ['This article is garbage. Just because the li...             0    ...       \n",
       "4                                                 []             1    ...       \n",
       "\n",
       "   reliable comments_count_cap  title_count_cap  text_count_cap  \\\n",
       "0         0                0.0              9.0            10.0   \n",
       "1         0                3.0              1.0            45.0   \n",
       "2         0               45.0              9.0             NaN   \n",
       "3         1               43.0              4.0             NaN   \n",
       "4         0                0.0              9.0            11.0   \n",
       "\n",
       "   text_count_excl  text_len  comments_count_excl title_count_excl  \\\n",
       "0              0.0     265.0                  0.0              0.0   \n",
       "1              1.0    2801.0                  0.0              0.0   \n",
       "2              NaN       NaN                  2.0              1.0   \n",
       "3              NaN       NaN                  4.0              0.0   \n",
       "4              0.0     293.0                  0.0              0.0   \n",
       "\n",
       "  comments_len  title_len  \n",
       "0          2.0      172.0  \n",
       "1        176.0      139.0  \n",
       "2       1413.0      135.0  \n",
       "3        934.0       78.0  \n",
       "4          2.0      158.0  \n",
       "\n",
       "[5 rows x 31 columns]"
      ]
     },
     "execution_count": 4,
     "metadata": {},
     "output_type": "execute_result"
    }
   ],
   "source": [
    "data.head()"
   ]
  },
  {
   "cell_type": "code",
   "execution_count": 5,
   "metadata": {
    "ExecuteTime": {
     "end_time": "2018-04-06T00:42:14.526350Z",
     "start_time": "2018-04-06T00:42:13.089387Z"
    }
   },
   "outputs": [
    {
     "data": {
      "text/plain": [
       "<matplotlib.axes._subplots.AxesSubplot at 0x10d9edb38>"
      ]
     },
     "execution_count": 5,
     "metadata": {},
     "output_type": "execute_result"
    },
    {
     "data": {
      "image/png": "[encoded data removed]",
      "text/plain": [
       "<matplotlib.figure.Figure at 0x10db232e8>"
      ]
     },
     "metadata": {},
     "output_type": "display_data"
    }
   ],
   "source": [
    "clean_data = data.drop([\"post_title\", \"post_selftext\", \"comments\", \"post_id\", \"website\", \"doubt\"], axis=1)\n",
    "f, ax = plt.subplots(figsize=(20, 15))\n",
    "sns.heatmap(clean_data.apply(lambda x: x.factorize()[0]).corr(),square=True)"
   ]
  },
  {
   "cell_type": "code",
   "execution_count": 6,
   "metadata": {
    "ExecuteTime": {
     "end_time": "2018-04-06T00:42:14.603567Z",
     "start_time": "2018-04-06T00:42:14.529328Z"
    }
   },
   "outputs": [
    {
     "name": "stdout",
     "output_type": "stream",
     "text": [
      "<class 'pandas.core.frame.DataFrame'>\n",
      "RangeIndex: 9894 entries, 0 to 9893\n",
      "Data columns (total 25 columns):\n",
      "post_author                      9894 non-null object\n",
      "post_num_comments                9894 non-null int64\n",
      "post_subreddit_subscribers       9894 non-null int64\n",
      "post_subreddit_name_prefixed     9894 non-null object\n",
      "post_upvotes                     9894 non-null int64\n",
      "user_created                     9894 non-null float64\n",
      "user_has_verified_email          9232 non-null object\n",
      "user_is_gold                     9894 non-null bool\n",
      "user_is_mod                      9894 non-null bool\n",
      "user_link_karma                  9894 non-null int64\n",
      "user_comment_karma               9894 non-null int64\n",
      "subreddit_active_user_count      9894 non-null int64\n",
      "subreddit_advertiser_category    2331 non-null object\n",
      "subreddit_audience_target        3140 non-null object\n",
      "fake                             9894 non-null int64\n",
      "reliable                         9894 non-null int64\n",
      "comments_count_cap               9894 non-null float64\n",
      "title_count_cap                  9894 non-null float64\n",
      "text_count_cap                   8153 non-null float64\n",
      "text_count_excl                  8153 non-null float64\n",
      "text_len                         8153 non-null float64\n",
      "comments_count_excl              9894 non-null float64\n",
      "title_count_excl                 9894 non-null float64\n",
      "comments_len                     9894 non-null float64\n",
      "title_len                        9894 non-null float64\n",
      "dtypes: bool(2), float64(10), int64(8), object(5)\n",
      "memory usage: 1.8+ MB\n",
      "5551\n",
      "4481\n"
     ]
    }
   ],
   "source": [
    "clean_data.describe()\n",
    "clean_data.info()\n",
    "clean_data.head()\n",
    "print(len(clean_data[clean_data.fake == 1]))\n",
    "print(len(clean_data[clean_data.reliable == 1]))"
   ]
  },
  {
   "cell_type": "code",
   "execution_count": 7,
   "metadata": {
    "ExecuteTime": {
     "end_time": "2018-04-06T00:42:14.669382Z",
     "start_time": "2018-04-06T00:42:14.606512Z"
    }
   },
   "outputs": [
    {
     "name": "stdout",
     "output_type": "stream",
     "text": [
      "      post_num_comments  post_subreddit_subscribers  post_upvotes  \\\n",
      "0                     0                         506             1   \n",
      "1                     2                     3748992             0   \n",
      "2                    24                        8406             0   \n",
      "3                    10                       25729             0   \n",
      "4                     0                         506             1   \n",
      "5                     0                         192             0   \n",
      "6                     0                       11046             0   \n",
      "7                   158                      745624           347   \n",
      "8                     0                         506             1   \n",
      "9                     5                    18970155             0   \n",
      "10                    2                       32687             6   \n",
      "11                    0                         506             1   \n",
      "12                    0                         876             1   \n",
      "13                    4                      613191             3   \n",
      "14                   11                        2594             5   \n",
      "15                    1                      593684            25   \n",
      "16                    0                         506             1   \n",
      "17                   15                       20481            31   \n",
      "18                    0                         317             1   \n",
      "19                    0                         506             1   \n",
      "20                   29                       23654           174   \n",
      "21                    6                        2417            26   \n",
      "22                   27                      613191            17   \n",
      "23                    0                         506             1   \n",
      "24                    2                      593684            10   \n",
      "25                    0                         192             0   \n",
      "26                    1                        5454             2   \n",
      "27                   26                      128519             0   \n",
      "28                 1404                     3748993             0   \n",
      "29                    0                        4084             1   \n",
      "...                 ...                         ...           ...   \n",
      "9864                  4                      119170           112   \n",
      "9865                  1                    17853581             0   \n",
      "9866                 62                      128545           126   \n",
      "9867                  0                         810             1   \n",
      "9868                  0                         146             1   \n",
      "9869                  5                       17613             3   \n",
      "9870                 16                         321             5   \n",
      "9871                  0                         176             1   \n",
      "9872                 11                      396944             7   \n",
      "9873                  0                        4084             1   \n",
      "9874                  0                         810             1   \n",
      "9875                 79                      545975             8   \n",
      "9876                  1                        1233             1   \n",
      "9877                  0                        4084             1   \n",
      "9878                  0                         146             1   \n",
      "9879                  0                        1168             3   \n",
      "9880                 75                      485753           323   \n",
      "9881                  0                         506             1   \n",
      "9882                 73                      358043            55   \n",
      "9883                  0                        4084             1   \n",
      "9884                  8                       15734             6   \n",
      "9885                  0                         146             1   \n",
      "9886                  0                         506             1   \n",
      "9887                  3                       63457            31   \n",
      "9888                  0                        9283             2   \n",
      "9889                  0                         810             1   \n",
      "9890                  0                         506             1   \n",
      "9891                  0                     2157183            18   \n",
      "9892                  0                         810             1   \n",
      "9893                  0                         506             1   \n",
      "\n",
      "      user_created  user_is_gold  user_is_mod  user_link_karma  \\\n",
      "0     1.444076e+09         False         True             2535   \n",
      "1     1.321085e+09         False        False                1   \n",
      "2     1.260364e+09         False        False           268086   \n",
      "3     1.426727e+09         False         True             1907   \n",
      "4     1.444076e+09         False         True             2535   \n",
      "5     1.335975e+09         False         True                1   \n",
      "6     1.260364e+09         False        False           268086   \n",
      "7     1.354365e+09         False        False                1   \n",
      "8     1.444076e+09         False         True             2535   \n",
      "9     1.325635e+09         False        False             8067   \n",
      "10    1.260364e+09         False        False           268087   \n",
      "11    1.444076e+09         False         True             2535   \n",
      "12    1.402470e+09         False         True            17264   \n",
      "13    1.374896e+09         False        False              157   \n",
      "14    1.274035e+09          True         True             5020   \n",
      "15    1.513344e+09         False         True            25858   \n",
      "16    1.444076e+09         False         True             2535   \n",
      "17    1.353554e+09         False         True             4361   \n",
      "18    1.487707e+09         False        False             2806   \n",
      "19    1.444076e+09         False         True             2535   \n",
      "20    1.313471e+09          True         True             7631   \n",
      "21    1.492792e+09         False        False              356   \n",
      "22    1.353554e+09         False         True             4361   \n",
      "23    1.444076e+09         False         True             2535   \n",
      "24    1.459263e+09         False        False            11871   \n",
      "25    1.335975e+09         False         True                1   \n",
      "26    1.442105e+09         False        False             4880   \n",
      "27    1.497473e+09         False        False               12   \n",
      "28    1.436497e+09          True         True           609342   \n",
      "29    1.367042e+09         False        False               50   \n",
      "...            ...           ...          ...              ...   \n",
      "9864  1.427020e+09         False        False              341   \n",
      "9865  1.353475e+09         False        False              398   \n",
      "9866  1.315879e+09         False         True            20810   \n",
      "9867  1.377400e+09         False         True            15636   \n",
      "9868  1.505298e+09          True         True              973   \n",
      "9869  1.320463e+09         False        False                9   \n",
      "9870  1.480501e+09         False        False              846   \n",
      "9871  1.394858e+09         False         True            11636   \n",
      "9872  1.374923e+09         False        False             1556   \n",
      "9873  1.367042e+09         False        False               50   \n",
      "9874  1.377400e+09         False         True            15636   \n",
      "9875  1.471644e+09         False         True             4832   \n",
      "9876  1.503217e+09          True         True             9460   \n",
      "9877  1.367042e+09         False        False               50   \n",
      "9878  1.505298e+09          True         True              973   \n",
      "9879  1.285801e+09         False         True           432062   \n",
      "9880  1.480860e+09         False        False              453   \n",
      "9881  1.444076e+09         False         True             2536   \n",
      "9882  1.446012e+09         False        False              221   \n",
      "9883  1.367042e+09         False        False               50   \n",
      "9884  1.461721e+09         False        False            11500   \n",
      "9885  1.505298e+09          True         True              973   \n",
      "9886  1.444076e+09         False         True             2536   \n",
      "9887  1.374165e+09         False         True              234   \n",
      "9888  1.327970e+09         False         True           106593   \n",
      "9889  1.377400e+09         False         True            15636   \n",
      "9890  1.444076e+09         False         True             2536   \n",
      "9891  1.460968e+09         False        False             1487   \n",
      "9892  1.377400e+09         False         True            15636   \n",
      "9893  1.444076e+09         False         True             2536   \n",
      "\n",
      "      user_comment_karma  subreddit_active_user_count  fake  \\\n",
      "0                     13                          228     1   \n",
      "1                      0                        19686     1   \n",
      "2                  11239                            5     1   \n",
      "3                   3512                           74     0   \n",
      "4                     13                          253     1   \n",
      "5                      0                            3     1   \n",
      "6                  11239                           14     1   \n",
      "7                     74                        29409     0   \n",
      "8                     13                          253     1   \n",
      "9                    902                        65826     1   \n",
      "10                 11239                           64     1   \n",
      "11                    13                          253     1   \n",
      "12                  2639                           96     1   \n",
      "13                  1060                         2265     1   \n",
      "14                  1723                            1     0   \n",
      "15                  2171                         8235     1   \n",
      "16                    13                          253     1   \n",
      "17                  4551                           67     1   \n",
      "18                     0                            4     1   \n",
      "19                    13                          272     1   \n",
      "20                 18908                          486     0   \n",
      "21                  1164                            4     1   \n",
      "22                  4551                         2246     1   \n",
      "23                    13                          272     1   \n",
      "24                  5369                         8303     1   \n",
      "25                     0                            2     1   \n",
      "26                 27457                           46     0   \n",
      "27                    70                          863     1   \n",
      "28                  -100                        19673     1   \n",
      "29                  1077                           11     1   \n",
      "...                  ...                          ...   ...   \n",
      "9864                  74                         1885     0   \n",
      "9865                  49                         6859     1   \n",
      "9866               38720                         1221     1   \n",
      "9867                  58                           83     0   \n",
      "9868               91807                          112     0   \n",
      "9869                 100                          183     1   \n",
      "9870                1190                            2     1   \n",
      "9871              102759                            3     0   \n",
      "9872                 325                          941     0   \n",
      "9873                1077                            7     1   \n",
      "9874                  58                           83     0   \n",
      "9875               13907                         1627     1   \n",
      "9876                 516                           71     0   \n",
      "9877                1077                           10     1   \n",
      "9878               91807                          134     0   \n",
      "9879                7247                            7     1   \n",
      "9880                8705                         3814     1   \n",
      "9881                  13                          300     0   \n",
      "9882                 607                         1415     0   \n",
      "9883                1077                           10     1   \n",
      "9884                1498                          283     1   \n",
      "9885               91807                          134     0   \n",
      "9886                  13                          300     0   \n",
      "9887                  80                           87     1   \n",
      "9888              915915                          227     1   \n",
      "9889                  58                           84     0   \n",
      "9890                  13                          295     0   \n",
      "9891                 621                         1697     1   \n",
      "9892                  58                           84     1   \n",
      "9893                  13                          295     0   \n",
      "\n",
      "                  ...               title_count_cap  text_count_cap  \\\n",
      "0                 ...                           9.0            10.0   \n",
      "1                 ...                           1.0            45.0   \n",
      "2                 ...                           9.0             0.0   \n",
      "3                 ...                           4.0             0.0   \n",
      "4                 ...                           9.0            11.0   \n",
      "5                 ...                           2.0           318.0   \n",
      "6                 ...                           9.0             0.0   \n",
      "7                 ...                           5.0             0.0   \n",
      "8                 ...                           4.0             5.0   \n",
      "9                 ...                           4.0            14.0   \n",
      "10                ...                           9.0             0.0   \n",
      "11                ...                           9.0            10.0   \n",
      "12                ...                          27.0            37.0   \n",
      "13                ...                           1.0           804.0   \n",
      "14                ...                          20.0           127.0   \n",
      "15                ...                           6.0           249.0   \n",
      "16                ...                           1.0             3.0   \n",
      "17                ...                           4.0           305.0   \n",
      "18                ...                          31.0          1167.0   \n",
      "19                ...                           6.0             7.0   \n",
      "20                ...                          10.0           484.0   \n",
      "21                ...                          20.0            76.0   \n",
      "22                ...                           7.0          1412.0   \n",
      "23                ...                           3.0             4.0   \n",
      "24                ...                           1.0            36.0   \n",
      "25                ...                           2.0           249.0   \n",
      "26                ...                           4.0             8.0   \n",
      "27                ...                           2.0           201.0   \n",
      "28                ...                           6.0           224.0   \n",
      "29                ...                          11.0            13.0   \n",
      "...               ...                           ...             ...   \n",
      "9864              ...                           8.0           124.0   \n",
      "9865              ...                           8.0            25.0   \n",
      "9866              ...                           4.0            21.0   \n",
      "9867              ...                           5.0            17.0   \n",
      "9868              ...                          10.0           120.0   \n",
      "9869              ...                           2.0             2.0   \n",
      "9870              ...                           1.0           132.0   \n",
      "9871              ...                           4.0             0.0   \n",
      "9872              ...                           5.0            37.0   \n",
      "9873              ...                           5.0             7.0   \n",
      "9874              ...                           7.0            11.0   \n",
      "9875              ...                           6.0            24.0   \n",
      "9876              ...                           4.0            12.0   \n",
      "9877              ...                           7.0            15.0   \n",
      "9878              ...                           5.0           154.0   \n",
      "9879              ...                           3.0            10.0   \n",
      "9880              ...                           2.0            12.0   \n",
      "9881              ...                           3.0             5.0   \n",
      "9882              ...                           3.0           159.0   \n",
      "9883              ...                           3.0             5.0   \n",
      "9884              ...                           6.0            71.0   \n",
      "9885              ...                           2.0            45.0   \n",
      "9886              ...                           9.0            11.0   \n",
      "9887              ...                          11.0             0.0   \n",
      "9888              ...                          10.0            45.0   \n",
      "9889              ...                           2.0             7.0   \n",
      "9890              ...                           5.0             7.0   \n",
      "9891              ...                           8.0             0.0   \n",
      "9892              ...                           6.0            12.0   \n",
      "9893              ...                           3.0             5.0   \n",
      "\n",
      "      text_count_excl  text_len  comments_count_excl  title_count_excl  \\\n",
      "0                 0.0     265.0                  0.0               0.0   \n",
      "1                 1.0    2801.0                  0.0               0.0   \n",
      "2                 0.0       0.0                  2.0               1.0   \n",
      "3                 0.0       0.0                  4.0               0.0   \n",
      "4                 0.0     293.0                  0.0               0.0   \n",
      "5                 2.0    9854.0                  0.0               0.0   \n",
      "6                 0.0       0.0                  0.0               1.0   \n",
      "7                 0.0     126.0                  4.0               0.0   \n",
      "8                 0.0     259.0                  0.0               0.0   \n",
      "9                 0.0     530.0                  0.0               0.0   \n",
      "10                0.0       0.0                  0.0               1.0   \n",
      "11                0.0     275.0                  0.0               0.0   \n",
      "12                0.0     470.0                  0.0               0.0   \n",
      "13                0.0    8075.0                  1.0               0.0   \n",
      "14                1.0    3861.0                  1.0               0.0   \n",
      "15                3.0    1750.0                  0.0               0.0   \n",
      "16                0.0     264.0                  0.0               0.0   \n",
      "17                4.0   12432.0                  3.0               0.0   \n",
      "18                2.0   32812.0                  0.0               1.0   \n",
      "19                0.0     267.0                  0.0               0.0   \n",
      "20                1.0    6880.0                  0.0               0.0   \n",
      "21                2.0     773.0                  0.0               1.0   \n",
      "22                4.0   13799.0                  2.0               0.0   \n",
      "23                0.0     261.0                  0.0               0.0   \n",
      "24                0.0    3750.0                  0.0               0.0   \n",
      "25                3.0    9777.0                  0.0               0.0   \n",
      "26                0.0     332.0                  0.0               0.0   \n",
      "27                0.0    7889.0                  1.0               0.0   \n",
      "28                0.0    4171.0                  2.0               0.0   \n",
      "29                0.0     389.0                  0.0               0.0   \n",
      "...               ...       ...                  ...               ...   \n",
      "9864              0.0    4323.0                  2.0               0.0   \n",
      "9865              0.0     502.0                  0.0               0.0   \n",
      "9866              0.0    1017.0                  1.0               0.0   \n",
      "9867              0.0     400.0                  0.0               0.0   \n",
      "9868              0.0    2759.0                  0.0               0.0   \n",
      "9869              0.0     162.0                  0.0               0.0   \n",
      "9870              0.0    5448.0                  2.0               0.0   \n",
      "9871              0.0      91.0                  0.0               0.0   \n",
      "9872              0.0     593.0                  0.0               0.0   \n",
      "9873              0.0     382.0                  0.0               0.0   \n",
      "9874              0.0     493.0                  0.0               0.0   \n",
      "9875              2.0    1215.0                  0.0               0.0   \n",
      "9876              0.0     559.0                  0.0               0.0   \n",
      "9877              0.0     315.0                  0.0               0.0   \n",
      "9878              0.0    4310.0                  0.0               0.0   \n",
      "9879              0.0     439.0                  0.0               0.0   \n",
      "9880              0.0     324.0                  2.0               0.0   \n",
      "9881              0.0     293.0                  0.0               0.0   \n",
      "9882              1.0    6369.0                  1.0               0.0   \n",
      "9883              0.0     405.0                  0.0               0.0   \n",
      "9884              0.0    1874.0                  0.0               0.0   \n",
      "9885              0.0    1720.0                  0.0               0.0   \n",
      "9886              0.0     270.0                  0.0               0.0   \n",
      "9887              0.0       0.0                  0.0               0.0   \n",
      "9888              0.0    2019.0                  0.0               0.0   \n",
      "9889              0.0     443.0                  0.0               0.0   \n",
      "9890              0.0     282.0                  0.0               0.0   \n",
      "9891              0.0       0.0                  0.0               0.0   \n",
      "9892              0.0     399.0                  0.0               0.0   \n",
      "9893              0.0     288.0                  0.0               0.0   \n",
      "\n",
      "      comments_len  title_len  user_has_verified_email_False  \\\n",
      "0              2.0      172.0                              1   \n",
      "1            176.0      139.0                              1   \n",
      "2           1413.0      135.0                              1   \n",
      "3            934.0       78.0                              1   \n",
      "4              2.0      158.0                              1   \n",
      "5              2.0       35.0                              0   \n",
      "6              2.0      135.0                              1   \n",
      "7           2137.0       35.0                              0   \n",
      "8              2.0      148.0                              1   \n",
      "9            283.0      161.0                              0   \n",
      "10           293.0      135.0                              1   \n",
      "11             2.0      180.0                              1   \n",
      "12             2.0      120.0                              0   \n",
      "13           306.0       25.0                              1   \n",
      "14          1339.0      109.0                              1   \n",
      "15             2.0       48.0                              0   \n",
      "16             2.0      133.0                              1   \n",
      "17         10827.0      163.0                              1   \n",
      "18             2.0       87.0                              1   \n",
      "19             2.0      170.0                              1   \n",
      "20           853.0       55.0                              0   \n",
      "21           510.0      215.0                              1   \n",
      "22          2988.0       62.0                              1   \n",
      "23             2.0      166.0                              1   \n",
      "24             2.0       56.0                              1   \n",
      "25             2.0       35.0                              0   \n",
      "26             2.0       59.0                              1   \n",
      "27          1617.0       37.0                              0   \n",
      "28          1120.0       25.0                              1   \n",
      "29             2.0       58.0                              0   \n",
      "...            ...        ...                            ...   \n",
      "9864        2604.0       57.0                              1   \n",
      "9865           2.0       48.0                              0   \n",
      "9866        1845.0       30.0                              0   \n",
      "9867           2.0       78.0                              1   \n",
      "9868           2.0       71.0                              0   \n",
      "9869         429.0       17.0                              0   \n",
      "9870        7786.0       34.0                              1   \n",
      "9871           2.0       77.0                              0   \n",
      "9872        2415.0      102.0                              0   \n",
      "9873           2.0       45.0                              0   \n",
      "9874           2.0      107.0                              1   \n",
      "9875        4448.0      149.0                              0   \n",
      "9876           2.0      130.0                              1   \n",
      "9877           2.0       28.0                              0   \n",
      "9878           2.0       72.0                              0   \n",
      "9879           2.0       74.0                              0   \n",
      "9880        3083.0       83.0                              1   \n",
      "9881           2.0      158.0                              1   \n",
      "9882        7589.0       39.0                              1   \n",
      "9883           2.0       66.0                              0   \n",
      "9884        1279.0       52.0                              1   \n",
      "9885           2.0      102.0                              0   \n",
      "9886           2.0      142.0                              1   \n",
      "9887         265.0       71.0                              0   \n",
      "9888           2.0       56.0                              1   \n",
      "9889           2.0       50.0                              1   \n",
      "9890           2.0      153.0                              1   \n",
      "9891           2.0       70.0                              0   \n",
      "9892           2.0       44.0                              1   \n",
      "9893           2.0      153.0                              1   \n",
      "\n",
      "      user_has_verified_email_True  \n",
      "0                                0  \n",
      "1                                0  \n",
      "2                                0  \n",
      "3                                0  \n",
      "4                                0  \n",
      "5                                1  \n",
      "6                                0  \n",
      "7                                1  \n",
      "8                                0  \n",
      "9                                1  \n",
      "10                               0  \n",
      "11                               0  \n",
      "12                               1  \n",
      "13                               0  \n",
      "14                               0  \n",
      "15                               1  \n",
      "16                               0  \n",
      "17                               0  \n",
      "18                               0  \n",
      "19                               0  \n",
      "20                               1  \n",
      "21                               0  \n",
      "22                               0  \n",
      "23                               0  \n",
      "24                               0  \n",
      "25                               1  \n",
      "26                               0  \n",
      "27                               1  \n",
      "28                               0  \n",
      "29                               1  \n",
      "...                            ...  \n",
      "9864                             0  \n",
      "9865                             1  \n",
      "9866                             1  \n",
      "9867                             0  \n",
      "9868                             1  \n",
      "9869                             1  \n",
      "9870                             0  \n",
      "9871                             1  \n",
      "9872                             1  \n",
      "9873                             1  \n",
      "9874                             0  \n",
      "9875                             1  \n",
      "9876                             0  \n",
      "9877                             1  \n",
      "9878                             1  \n",
      "9879                             1  \n",
      "9880                             0  \n",
      "9881                             0  \n",
      "9882                             0  \n",
      "9883                             1  \n",
      "9884                             0  \n",
      "9885                             1  \n",
      "9886                             0  \n",
      "9887                             1  \n",
      "9888                             0  \n",
      "9889                             0  \n",
      "9890                             0  \n",
      "9891                             1  \n",
      "9892                             0  \n",
      "9893                             0  \n",
      "\n",
      "[9894 rows x 22 columns]\n"
     ]
    }
   ],
   "source": [
    "data_4_model = clean_data\n",
    "data_4_model = data_4_model.fillna(0)\n",
    "data_4_model = data_4_model.drop([\"post_author\", \"subreddit_audience_target\", \"subreddit_advertiser_category\", \"post_subreddit_name_prefixed\"], axis=1)\n",
    "cols_to_transform = [\"user_has_verified_email\"]\n",
    "data_4_model = pandas.get_dummies(data=data_4_model, columns = cols_to_transform)\n",
    "labels = [\"fake\", \"reliable\"]\n",
    "features = [feature for feature in data_4_model.columns.values if feature not in labels]\n",
    "print(data_4_model)"
   ]
  },
  {
   "cell_type": "code",
   "execution_count": 8,
   "metadata": {
    "ExecuteTime": {
     "end_time": "2018-04-06T00:42:14.691033Z",
     "start_time": "2018-04-06T00:42:14.672253Z"
    },
    "scrolled": true
   },
   "outputs": [
    {
     "name": "stdout",
     "output_type": "stream",
     "text": [
      "['post_num_comments', 'post_subreddit_subscribers', 'post_upvotes', 'user_created', 'user_is_gold', 'user_is_mod', 'user_link_karma', 'user_comment_karma', 'subreddit_active_user_count', 'comments_count_cap', 'title_count_cap', 'text_count_cap', 'text_count_excl', 'text_len', 'comments_count_excl', 'title_count_excl', 'comments_len', 'title_len', 'user_has_verified_email_False', 'user_has_verified_email_True']\n",
      "<class 'pandas.core.frame.DataFrame'>\n",
      "RangeIndex: 9894 entries, 0 to 9893\n",
      "Data columns (total 22 columns):\n",
      "post_num_comments                9894 non-null int64\n",
      "post_subreddit_subscribers       9894 non-null int64\n",
      "post_upvotes                     9894 non-null int64\n",
      "user_created                     9894 non-null float64\n",
      "user_is_gold                     9894 non-null bool\n",
      "user_is_mod                      9894 non-null bool\n",
      "user_link_karma                  9894 non-null int64\n",
      "user_comment_karma               9894 non-null int64\n",
      "subreddit_active_user_count      9894 non-null int64\n",
      "fake                             9894 non-null int64\n",
      "reliable                         9894 non-null int64\n",
      "comments_count_cap               9894 non-null float64\n",
      "title_count_cap                  9894 non-null float64\n",
      "text_count_cap                   9894 non-null float64\n",
      "text_count_excl                  9894 non-null float64\n",
      "text_len                         9894 non-null float64\n",
      "comments_count_excl              9894 non-null float64\n",
      "title_count_excl                 9894 non-null float64\n",
      "comments_len                     9894 non-null float64\n",
      "title_len                        9894 non-null float64\n",
      "user_has_verified_email_False    9894 non-null uint8\n",
      "user_has_verified_email_True     9894 non-null uint8\n",
      "dtypes: bool(2), float64(10), int64(8), uint8(2)\n",
      "memory usage: 1.4 MB\n"
     ]
    }
   ],
   "source": [
    "print(features)\n",
    "data_4_model.info()"
   ]
  },
  {
   "cell_type": "code",
   "execution_count": 9,
   "metadata": {
    "ExecuteTime": {
     "end_time": "2018-04-06T00:42:14.702451Z",
     "start_time": "2018-04-06T00:42:14.694125Z"
    }
   },
   "outputs": [],
   "source": [
    "msk = np.random.rand(len(data_4_model)) < 0.8\n",
    "train_data = data_4_model[msk]\n",
    "test_data = data_4_model[~msk]"
   ]
  },
  {
   "cell_type": "code",
   "execution_count": 10,
   "metadata": {
    "ExecuteTime": {
     "end_time": "2018-04-06T00:42:14.711049Z",
     "start_time": "2018-04-06T00:42:14.705050Z"
    }
   },
   "outputs": [],
   "source": [
    "results = pandas.DataFrame(columns=[\"fake\", \"reliable\"])"
   ]
  },
  {
   "cell_type": "markdown",
   "metadata": {},
   "source": [
    "## Logistic Regression with network features "
   ]
  },
  {
   "cell_type": "code",
   "execution_count": 11,
   "metadata": {
    "ExecuteTime": {
     "end_time": "2018-04-06T00:42:17.083371Z",
     "start_time": "2018-04-06T00:42:14.714110Z"
    }
   },
   "outputs": [
    {
     "name": "stdout",
     "output_type": "stream",
     "text": [
      "Training cross validation mean accuracry for label fake 0.592955399698\n",
      "             precision    recall  f1-score   support\n",
      "\n",
      "          0       0.53      0.54      0.53       857\n",
      "          1       0.66      0.65      0.65      1168\n",
      "\n",
      "avg / total       0.60      0.60      0.60      2025\n",
      "\n",
      "prob for testing set for fake [ 0.4474218   0.63239557  0.52891411 ...,  0.45810413  0.47937559\n",
      "  0.45505916]\n"
     ]
    },
    {
     "data": {
      "image/png": "[encoded data removed]",
      "text/plain": [
       "<matplotlib.figure.Figure at 0x10e232fd0>"
      ]
     },
     "metadata": {},
     "output_type": "display_data"
    }
   ],
   "source": [
    "model = LogisticRegression()\n",
    "rfe = RFE(model,11)\n",
    "rfe = rfe.fit(data_4_model[features], data_4_model[\"fake\"] )\n",
    "final_features = []\n",
    "for i in range(len(features)):\n",
    "    if rfe.support_[i]:\n",
    "        final_features.append(features[i]) \n",
    "kfold = model_selection.KFold(n_splits=20, random_state=7)\n",
    "scores = model_selection.cross_val_score(model, train_data[final_features], train_data[\"fake\"], cv=kfold)\n",
    "print(\"Training cross validation mean accuracry for label fake\", scores.mean())\n",
    "model.fit(train_data[final_features], train_data[\"fake\"])\n",
    "print(metrics.classification_report(test_data[\"fake\"], model.predict(test_data[final_features])))\n",
    "print(\"prob for testing set for fake\", model.predict_proba(test_data[final_features])[:, 1])\n",
    "conf = metrics.confusion_matrix(test_data[\"fake\"], model.predict(test_data[final_features]))\n",
    "fig, ax = plot_confusion_matrix(conf_mat=conf)\n",
    "plt.show()"
   ]
  },
  {
   "cell_type": "code",
   "execution_count": 12,
   "metadata": {
    "ExecuteTime": {
     "end_time": "2018-04-06T00:42:17.427835Z",
     "start_time": "2018-04-06T00:42:17.085845Z"
    }
   },
   "outputs": [
    {
     "data": {
      "image/png": "[encoded data removed]",
      "text/plain": [
       "<matplotlib.figure.Figure at 0x10e1afda0>"
      ]
     },
     "metadata": {},
     "output_type": "display_data"
    }
   ],
   "source": [
    "logit_roc_auc = roc_auc_score(test_data[\"fake\"], model.predict(test_data[final_features]))\n",
    "fpr, tpr, thresholds = roc_curve(test_data[\"fake\"], model.predict_proba(test_data[final_features])[:,1])\n",
    "plt.figure()\n",
    "plt.plot(fpr, tpr, label='Logistic Regression (area = %0.2f)' % logit_roc_auc)\n",
    "plt.plot([0, 1], [0, 1],'r--')\n",
    "plt.xlim([0.0, 1.0])\n",
    "plt.ylim([0.0, 1.05])\n",
    "plt.xlabel('False Positive Rate')\n",
    "plt.ylabel('True Positive Rate')\n",
    "plt.title('ROC')\n",
    "plt.legend(loc=\"lower right\")\n",
    "plt.savefig('Log_ROC')\n",
    "plt.show()"
   ]
  },
  {
   "cell_type": "markdown",
   "metadata": {},
   "source": [
    "Let's work on NLP Part"
   ]
  },
  {
   "cell_type": "code",
   "execution_count": 13,
   "metadata": {
    "ExecuteTime": {
     "end_time": "2018-04-06T00:42:17.465596Z",
     "start_time": "2018-04-06T00:42:17.430370Z"
    }
   },
   "outputs": [
    {
     "data": {
      "text/html": [
       "<div>\n",
       "<style scoped>\n",
       "    .dataframe tbody tr th:only-of-type {\n",
       "        vertical-align: middle;\n",
       "    }\n",
       "\n",
       "    .dataframe tbody tr th {\n",
       "        vertical-align: top;\n",
       "    }\n",
       "\n",
       "    .dataframe thead th {\n",
       "        text-align: right;\n",
       "    }\n",
       "</style>\n",
       "<table border=\"1\" class=\"dataframe\">\n",
       "  <thead>\n",
       "    <tr style=\"text-align: right;\">\n",
       "      <th></th>\n",
       "      <th>post_id</th>\n",
       "      <th>website</th>\n",
       "      <th>post_author</th>\n",
       "      <th>post_title</th>\n",
       "      <th>post_num_comments</th>\n",
       "      <th>post_subreddit_subscribers</th>\n",
       "      <th>post_subreddit_name_prefixed</th>\n",
       "      <th>post_selftext</th>\n",
       "      <th>comments</th>\n",
       "      <th>post_upvotes</th>\n",
       "      <th>...</th>\n",
       "      <th>reliable</th>\n",
       "      <th>comments_count_cap</th>\n",
       "      <th>title_count_cap</th>\n",
       "      <th>text_count_cap</th>\n",
       "      <th>text_count_excl</th>\n",
       "      <th>text_len</th>\n",
       "      <th>comments_count_excl</th>\n",
       "      <th>title_count_excl</th>\n",
       "      <th>comments_len</th>\n",
       "      <th>title_len</th>\n",
       "    </tr>\n",
       "  </thead>\n",
       "  <tbody>\n",
       "    <tr>\n",
       "      <th>0</th>\n",
       "      <td>4zmar5</td>\n",
       "      <td>trunews.com</td>\n",
       "      <td>removalbot</td>\n",
       "      <td>08-26 02:16 - 'Euro Banks Profits in Free Fall...</td>\n",
       "      <td>0</td>\n",
       "      <td>506</td>\n",
       "      <td>r/removalbot</td>\n",
       "      <td>[Euro Banks Profits in Free Fall Across All So...</td>\n",
       "      <td>[]</td>\n",
       "      <td>1</td>\n",
       "      <td>...</td>\n",
       "      <td>0</td>\n",
       "      <td>0.0</td>\n",
       "      <td>9.0</td>\n",
       "      <td>10.0</td>\n",
       "      <td>0.0</td>\n",
       "      <td>265.0</td>\n",
       "      <td>0.0</td>\n",
       "      <td>0.0</td>\n",
       "      <td>2.0</td>\n",
       "      <td>172.0</td>\n",
       "    </tr>\n",
       "    <tr>\n",
       "      <th>1</th>\n",
       "      <td>m9isb</td>\n",
       "      <td>pakalertpress.com</td>\n",
       "      <td>timestoday</td>\n",
       "      <td>The people must have a normal country, through...</td>\n",
       "      <td>2</td>\n",
       "      <td>3748992</td>\n",
       "      <td>r/politics</td>\n",
       "      <td>The media in the United States is one large wa...</td>\n",
       "      <td>[\"Tolerance and peace only lasts as long as ec...</td>\n",
       "      <td>0</td>\n",
       "      <td>...</td>\n",
       "      <td>0</td>\n",
       "      <td>3.0</td>\n",
       "      <td>1.0</td>\n",
       "      <td>45.0</td>\n",
       "      <td>1.0</td>\n",
       "      <td>2801.0</td>\n",
       "      <td>0.0</td>\n",
       "      <td>0.0</td>\n",
       "      <td>176.0</td>\n",
       "      <td>139.0</td>\n",
       "    </tr>\n",
       "    <tr>\n",
       "      <th>2</th>\n",
       "      <td>7g01mi</td>\n",
       "      <td>100percentfedup.com</td>\n",
       "      <td>bfwilley</td>\n",
       "      <td>Roy Moore witch hunt unravelling: More witness...</td>\n",
       "      <td>24</td>\n",
       "      <td>8406</td>\n",
       "      <td>r/AmericanPolitics</td>\n",
       "      <td>NaN</td>\n",
       "      <td>['**Sardonic_Samurai** too true when you want ...</td>\n",
       "      <td>0</td>\n",
       "      <td>...</td>\n",
       "      <td>0</td>\n",
       "      <td>45.0</td>\n",
       "      <td>9.0</td>\n",
       "      <td>NaN</td>\n",
       "      <td>NaN</td>\n",
       "      <td>NaN</td>\n",
       "      <td>2.0</td>\n",
       "      <td>1.0</td>\n",
       "      <td>1413.0</td>\n",
       "      <td>135.0</td>\n",
       "    </tr>\n",
       "    <tr>\n",
       "      <th>3</th>\n",
       "      <td>4i1bqo</td>\n",
       "      <td>musictimes.com</td>\n",
       "      <td>Poster_Nutsack</td>\n",
       "      <td>Musictimes.com article about ticket prices for...</td>\n",
       "      <td>10</td>\n",
       "      <td>25729</td>\n",
       "      <td>r/phish</td>\n",
       "      <td>NaN</td>\n",
       "      <td>['This article is garbage. Just because the li...</td>\n",
       "      <td>0</td>\n",
       "      <td>...</td>\n",
       "      <td>1</td>\n",
       "      <td>43.0</td>\n",
       "      <td>4.0</td>\n",
       "      <td>NaN</td>\n",
       "      <td>NaN</td>\n",
       "      <td>NaN</td>\n",
       "      <td>4.0</td>\n",
       "      <td>0.0</td>\n",
       "      <td>934.0</td>\n",
       "      <td>78.0</td>\n",
       "    </tr>\n",
       "    <tr>\n",
       "      <th>4</th>\n",
       "      <td>84jdi0</td>\n",
       "      <td>trunews.com</td>\n",
       "      <td>removalbot</td>\n",
       "      <td>03-15 03:03 - 'Musk Calls For Space Colonizati...</td>\n",
       "      <td>0</td>\n",
       "      <td>506</td>\n",
       "      <td>r/removalbot</td>\n",
       "      <td>[Musk Calls For Space Colonization as Failsafe...</td>\n",
       "      <td>[]</td>\n",
       "      <td>1</td>\n",
       "      <td>...</td>\n",
       "      <td>0</td>\n",
       "      <td>0.0</td>\n",
       "      <td>9.0</td>\n",
       "      <td>11.0</td>\n",
       "      <td>0.0</td>\n",
       "      <td>293.0</td>\n",
       "      <td>0.0</td>\n",
       "      <td>0.0</td>\n",
       "      <td>2.0</td>\n",
       "      <td>158.0</td>\n",
       "    </tr>\n",
       "  </tbody>\n",
       "</table>\n",
       "<p>5 rows × 31 columns</p>\n",
       "</div>"
      ],
      "text/plain": [
       "  post_id              website     post_author  \\\n",
       "0  4zmar5          trunews.com      removalbot   \n",
       "1   m9isb    pakalertpress.com      timestoday   \n",
       "2  7g01mi  100percentfedup.com        bfwilley   \n",
       "3  4i1bqo       musictimes.com  Poster_Nutsack   \n",
       "4  84jdi0          trunews.com      removalbot   \n",
       "\n",
       "                                          post_title  post_num_comments  \\\n",
       "0  08-26 02:16 - 'Euro Banks Profits in Free Fall...                  0   \n",
       "1  The people must have a normal country, through...                  2   \n",
       "2  Roy Moore witch hunt unravelling: More witness...                 24   \n",
       "3  Musictimes.com article about ticket prices for...                 10   \n",
       "4  03-15 03:03 - 'Musk Calls For Space Colonizati...                  0   \n",
       "\n",
       "   post_subreddit_subscribers post_subreddit_name_prefixed  \\\n",
       "0                         506                 r/removalbot   \n",
       "1                     3748992                   r/politics   \n",
       "2                        8406           r/AmericanPolitics   \n",
       "3                       25729                      r/phish   \n",
       "4                         506                 r/removalbot   \n",
       "\n",
       "                                       post_selftext  \\\n",
       "0  [Euro Banks Profits in Free Fall Across All So...   \n",
       "1  The media in the United States is one large wa...   \n",
       "2                                                NaN   \n",
       "3                                                NaN   \n",
       "4  [Musk Calls For Space Colonization as Failsafe...   \n",
       "\n",
       "                                            comments  post_upvotes    ...      \\\n",
       "0                                                 []             1    ...       \n",
       "1  [\"Tolerance and peace only lasts as long as ec...             0    ...       \n",
       "2  ['**Sardonic_Samurai** too true when you want ...             0    ...       \n",
       "3  ['This article is garbage. Just because the li...             0    ...       \n",
       "4                                                 []             1    ...       \n",
       "\n",
       "   reliable comments_count_cap  title_count_cap  text_count_cap  \\\n",
       "0         0                0.0              9.0            10.0   \n",
       "1         0                3.0              1.0            45.0   \n",
       "2         0               45.0              9.0             NaN   \n",
       "3         1               43.0              4.0             NaN   \n",
       "4         0                0.0              9.0            11.0   \n",
       "\n",
       "   text_count_excl  text_len  comments_count_excl title_count_excl  \\\n",
       "0              0.0     265.0                  0.0              0.0   \n",
       "1              1.0    2801.0                  0.0              0.0   \n",
       "2              NaN       NaN                  2.0              1.0   \n",
       "3              NaN       NaN                  4.0              0.0   \n",
       "4              0.0     293.0                  0.0              0.0   \n",
       "\n",
       "  comments_len  title_len  \n",
       "0          2.0      172.0  \n",
       "1        176.0      139.0  \n",
       "2       1413.0      135.0  \n",
       "3        934.0       78.0  \n",
       "4          2.0      158.0  \n",
       "\n",
       "[5 rows x 31 columns]"
      ]
     },
     "execution_count": 13,
     "metadata": {},
     "output_type": "execute_result"
    }
   ],
   "source": [
    "data.head()"
   ]
  },
  {
   "cell_type": "code",
   "execution_count": 14,
   "metadata": {
    "ExecuteTime": {
     "end_time": "2018-04-06T00:42:18.566646Z",
     "start_time": "2018-04-06T00:42:17.468169Z"
    }
   },
   "outputs": [],
   "source": [
    "msk = np.random.rand(len(data)) < 0.8\n",
    "train = data[msk]\n",
    "test = data[~msk]\n",
    "TITLE = 'post_title'\n",
    "COMMENT = 'post_selftext'\n",
    "TEXT = \"comments\"\n",
    "\n",
    "#Fill all missing values\n",
    "train = train.fillna(0)\n",
    "test = test.fillna(0)\n",
    "\n",
    "\n",
    "#Transform comments array into a string\n",
    "train[COMMENT] = train[COMMENT].apply(lambda ele: ''.join(str(ele)))\n",
    "test[COMMENT] = test[COMMENT].apply(lambda ele: ''.join(str(ele)))\n"
   ]
  },
  {
   "cell_type": "code",
   "execution_count": 15,
   "metadata": {
    "ExecuteTime": {
     "end_time": "2018-04-06T00:42:18.609841Z",
     "start_time": "2018-04-06T00:42:18.569079Z"
    },
    "scrolled": true
   },
   "outputs": [
    {
     "data": {
      "text/html": [
       "<div>\n",
       "<style scoped>\n",
       "    .dataframe tbody tr th:only-of-type {\n",
       "        vertical-align: middle;\n",
       "    }\n",
       "\n",
       "    .dataframe tbody tr th {\n",
       "        vertical-align: top;\n",
       "    }\n",
       "\n",
       "    .dataframe thead th {\n",
       "        text-align: right;\n",
       "    }\n",
       "</style>\n",
       "<table border=\"1\" class=\"dataframe\">\n",
       "  <thead>\n",
       "    <tr style=\"text-align: right;\">\n",
       "      <th></th>\n",
       "      <th>post_id</th>\n",
       "      <th>website</th>\n",
       "      <th>post_author</th>\n",
       "      <th>post_title</th>\n",
       "      <th>post_num_comments</th>\n",
       "      <th>post_subreddit_subscribers</th>\n",
       "      <th>post_subreddit_name_prefixed</th>\n",
       "      <th>post_selftext</th>\n",
       "      <th>comments</th>\n",
       "      <th>post_upvotes</th>\n",
       "      <th>...</th>\n",
       "      <th>reliable</th>\n",
       "      <th>comments_count_cap</th>\n",
       "      <th>title_count_cap</th>\n",
       "      <th>text_count_cap</th>\n",
       "      <th>text_count_excl</th>\n",
       "      <th>text_len</th>\n",
       "      <th>comments_count_excl</th>\n",
       "      <th>title_count_excl</th>\n",
       "      <th>comments_len</th>\n",
       "      <th>title_len</th>\n",
       "    </tr>\n",
       "  </thead>\n",
       "  <tbody>\n",
       "    <tr>\n",
       "      <th>3</th>\n",
       "      <td>4i1bqo</td>\n",
       "      <td>musictimes.com</td>\n",
       "      <td>Poster_Nutsack</td>\n",
       "      <td>Musictimes.com article about ticket prices for...</td>\n",
       "      <td>10</td>\n",
       "      <td>25729</td>\n",
       "      <td>r/phish</td>\n",
       "      <td>0</td>\n",
       "      <td>['This article is garbage. Just because the li...</td>\n",
       "      <td>0</td>\n",
       "      <td>...</td>\n",
       "      <td>1</td>\n",
       "      <td>43.0</td>\n",
       "      <td>4.0</td>\n",
       "      <td>0.0</td>\n",
       "      <td>0.0</td>\n",
       "      <td>0.0</td>\n",
       "      <td>4.0</td>\n",
       "      <td>0.0</td>\n",
       "      <td>934.0</td>\n",
       "      <td>78.0</td>\n",
       "    </tr>\n",
       "    <tr>\n",
       "      <th>5</th>\n",
       "      <td>toqcr</td>\n",
       "      <td>pakalertpress.com</td>\n",
       "      <td>frontbot</td>\n",
       "      <td>9pm Tue 15 May 2012 - /r/conspiracy</td>\n",
       "      <td>0</td>\n",
       "      <td>192</td>\n",
       "      <td>r/frontconspiracy</td>\n",
       "      <td>1. [Iceland’s Amazing Peaceful Revolution – St...</td>\n",
       "      <td>[]</td>\n",
       "      <td>0</td>\n",
       "      <td>...</td>\n",
       "      <td>0</td>\n",
       "      <td>0.0</td>\n",
       "      <td>2.0</td>\n",
       "      <td>318.0</td>\n",
       "      <td>2.0</td>\n",
       "      <td>9854.0</td>\n",
       "      <td>0.0</td>\n",
       "      <td>0.0</td>\n",
       "      <td>2.0</td>\n",
       "      <td>35.0</td>\n",
       "    </tr>\n",
       "    <tr>\n",
       "      <th>6</th>\n",
       "      <td>7g01cv</td>\n",
       "      <td>100percentfedup.com</td>\n",
       "      <td>bfwilley</td>\n",
       "      <td>Roy Moore witch hunt unravelling: More witness...</td>\n",
       "      <td>0</td>\n",
       "      <td>11046</td>\n",
       "      <td>r/USNEWS</td>\n",
       "      <td>0</td>\n",
       "      <td>[]</td>\n",
       "      <td>0</td>\n",
       "      <td>...</td>\n",
       "      <td>0</td>\n",
       "      <td>0.0</td>\n",
       "      <td>9.0</td>\n",
       "      <td>0.0</td>\n",
       "      <td>0.0</td>\n",
       "      <td>0.0</td>\n",
       "      <td>0.0</td>\n",
       "      <td>1.0</td>\n",
       "      <td>2.0</td>\n",
       "      <td>135.0</td>\n",
       "    </tr>\n",
       "    <tr>\n",
       "      <th>7</th>\n",
       "      <td>2tenwu</td>\n",
       "      <td>musictimes.com</td>\n",
       "      <td>joeylloyd</td>\n",
       "      <td>Bobby Shmurda Gun Charges Dismissed</td>\n",
       "      <td>158</td>\n",
       "      <td>745624</td>\n",
       "      <td>r/hiphopheads</td>\n",
       "      <td>http://www.musictimes.com/articles/25721/20150...</td>\n",
       "      <td>['new bobby shmurda song - Bobby Snitch', 'gun...</td>\n",
       "      <td>347</td>\n",
       "      <td>...</td>\n",
       "      <td>1</td>\n",
       "      <td>48.0</td>\n",
       "      <td>5.0</td>\n",
       "      <td>0.0</td>\n",
       "      <td>0.0</td>\n",
       "      <td>126.0</td>\n",
       "      <td>4.0</td>\n",
       "      <td>0.0</td>\n",
       "      <td>2137.0</td>\n",
       "      <td>35.0</td>\n",
       "    </tr>\n",
       "    <tr>\n",
       "      <th>9</th>\n",
       "      <td>v8a1z</td>\n",
       "      <td>pakalertpress.com</td>\n",
       "      <td>Joseph_fritzl_316</td>\n",
       "      <td>So my friend keeps going on about how Gaddaffi...</td>\n",
       "      <td>5</td>\n",
       "      <td>18970155</td>\n",
       "      <td>r/AskReddit</td>\n",
       "      <td>He sent me this link as well which I'm skeptic...</td>\n",
       "      <td>['Everybody is good and bad.', 'He kept securi...</td>\n",
       "      <td>0</td>\n",
       "      <td>...</td>\n",
       "      <td>0</td>\n",
       "      <td>6.0</td>\n",
       "      <td>4.0</td>\n",
       "      <td>14.0</td>\n",
       "      <td>0.0</td>\n",
       "      <td>530.0</td>\n",
       "      <td>0.0</td>\n",
       "      <td>0.0</td>\n",
       "      <td>283.0</td>\n",
       "      <td>161.0</td>\n",
       "    </tr>\n",
       "  </tbody>\n",
       "</table>\n",
       "<p>5 rows × 31 columns</p>\n",
       "</div>"
      ],
      "text/plain": [
       "  post_id              website        post_author  \\\n",
       "3  4i1bqo       musictimes.com     Poster_Nutsack   \n",
       "5   toqcr    pakalertpress.com           frontbot   \n",
       "6  7g01cv  100percentfedup.com           bfwilley   \n",
       "7  2tenwu       musictimes.com          joeylloyd   \n",
       "9   v8a1z    pakalertpress.com  Joseph_fritzl_316   \n",
       "\n",
       "                                          post_title  post_num_comments  \\\n",
       "3  Musictimes.com article about ticket prices for...                 10   \n",
       "5                9pm Tue 15 May 2012 - /r/conspiracy                  0   \n",
       "6  Roy Moore witch hunt unravelling: More witness...                  0   \n",
       "7                Bobby Shmurda Gun Charges Dismissed                158   \n",
       "9  So my friend keeps going on about how Gaddaffi...                  5   \n",
       "\n",
       "   post_subreddit_subscribers post_subreddit_name_prefixed  \\\n",
       "3                       25729                      r/phish   \n",
       "5                         192            r/frontconspiracy   \n",
       "6                       11046                     r/USNEWS   \n",
       "7                      745624                r/hiphopheads   \n",
       "9                    18970155                  r/AskReddit   \n",
       "\n",
       "                                       post_selftext  \\\n",
       "3                                                  0   \n",
       "5  1. [Iceland’s Amazing Peaceful Revolution – St...   \n",
       "6                                                  0   \n",
       "7  http://www.musictimes.com/articles/25721/20150...   \n",
       "9  He sent me this link as well which I'm skeptic...   \n",
       "\n",
       "                                            comments  post_upvotes    ...      \\\n",
       "3  ['This article is garbage. Just because the li...             0    ...       \n",
       "5                                                 []             0    ...       \n",
       "6                                                 []             0    ...       \n",
       "7  ['new bobby shmurda song - Bobby Snitch', 'gun...           347    ...       \n",
       "9  ['Everybody is good and bad.', 'He kept securi...             0    ...       \n",
       "\n",
       "   reliable comments_count_cap  title_count_cap  text_count_cap  \\\n",
       "3         1               43.0              4.0             0.0   \n",
       "5         0                0.0              2.0           318.0   \n",
       "6         0                0.0              9.0             0.0   \n",
       "7         1               48.0              5.0             0.0   \n",
       "9         0                6.0              4.0            14.0   \n",
       "\n",
       "   text_count_excl  text_len  comments_count_excl title_count_excl  \\\n",
       "3              0.0       0.0                  4.0              0.0   \n",
       "5              2.0    9854.0                  0.0              0.0   \n",
       "6              0.0       0.0                  0.0              1.0   \n",
       "7              0.0     126.0                  4.0              0.0   \n",
       "9              0.0     530.0                  0.0              0.0   \n",
       "\n",
       "  comments_len  title_len  \n",
       "3        934.0       78.0  \n",
       "5          2.0       35.0  \n",
       "6          2.0      135.0  \n",
       "7       2137.0       35.0  \n",
       "9        283.0      161.0  \n",
       "\n",
       "[5 rows x 31 columns]"
      ]
     },
     "execution_count": 15,
     "metadata": {},
     "output_type": "execute_result"
    }
   ],
   "source": [
    "train.head()"
   ]
  },
  {
   "cell_type": "markdown",
   "metadata": {},
   "source": [
    "## Tokenization and vectorization of the training text set (comments, title and text)"
   ]
  },
  {
   "cell_type": "code",
   "execution_count": 16,
   "metadata": {
    "ExecuteTime": {
     "end_time": "2018-04-06T00:42:18.617773Z",
     "start_time": "2018-04-06T00:42:18.613078Z"
    }
   },
   "outputs": [],
   "source": [
    "re_tok = re.compile(f'([{string.punctuation}“”¨«»®´·º½¾¿¡§£₤‘’])')\n",
    "def tokenize(s): return re_tok.sub(r' \\1 ', s).split()"
   ]
  },
  {
   "cell_type": "code",
   "execution_count": 17,
   "metadata": {
    "ExecuteTime": {
     "end_time": "2018-04-06T00:42:18.739553Z",
     "start_time": "2018-04-06T00:42:18.620459Z"
    }
   },
   "outputs": [],
   "source": [
    "#Join 3 feature as a unique one\n",
    "train[\"text\"] = train[TITLE] + train[COMMENT] + train[TEXT]\n",
    "test[\"text\"] = test[TITLE] + test[COMMENT] + test[TEXT]"
   ]
  },
  {
   "cell_type": "markdown",
   "metadata": {},
   "source": [
    "### Using a TF-IDF vectorizer for our model\n",
    "* Will not give to much importance to current words"
   ]
  },
  {
   "cell_type": "code",
   "execution_count": 18,
   "metadata": {
    "ExecuteTime": {
     "end_time": "2018-04-06T00:43:11.330168Z",
     "start_time": "2018-04-06T00:42:18.744097Z"
    }
   },
   "outputs": [],
   "source": [
    "n = train.shape[0]\n",
    "vec = TfidfVectorizer(ngram_range=(1,2), tokenizer=tokenize,\n",
    "               min_df=3, max_df=0.9, strip_accents='unicode', use_idf=1,\n",
    "               smooth_idf=1, sublinear_tf=1)\n",
    "trn_term_doc = vec.fit_transform(train[\"text\"])\n",
    "test_term_doc = vec.transform(test[\"text\"])"
   ]
  },
  {
   "cell_type": "markdown",
   "metadata": {},
   "source": [
    "### Implementing a basic Naive-Bayes classifier\n",
    "* Help us to give more weight to a word based on the probability that this word belongs to a specific class"
   ]
  },
  {
   "cell_type": "code",
   "execution_count": 19,
   "metadata": {
    "ExecuteTime": {
     "end_time": "2018-04-06T00:43:11.342465Z",
     "start_time": "2018-04-06T00:43:11.332384Z"
    }
   },
   "outputs": [],
   "source": [
    "#Naive Bayes classifier\n",
    "def pr(y_i, y):\n",
    "    p = x[y==y_i].sum(0)\n",
    "    return (p+1) / ((y==y_i).sum()+1)"
   ]
  },
  {
   "cell_type": "markdown",
   "metadata": {},
   "source": [
    "### Implementing our model as a logistic regression of a sparse matrix\n",
    "* Use this model as a simple classification model for our fake news detection"
   ]
  },
  {
   "cell_type": "code",
   "execution_count": 20,
   "metadata": {
    "ExecuteTime": {
     "end_time": "2018-04-06T00:43:11.351246Z",
     "start_time": "2018-04-06T00:43:11.346881Z"
    }
   },
   "outputs": [],
   "source": [
    "x = trn_term_doc\n",
    "test_x = test_term_doc"
   ]
  },
  {
   "cell_type": "code",
   "execution_count": 21,
   "metadata": {
    "ExecuteTime": {
     "end_time": "2018-04-06T00:43:11.450602Z",
     "start_time": "2018-04-06T00:43:11.354069Z"
    },
    "scrolled": true
   },
   "outputs": [],
   "source": [
    "#Drop unecessary features from both dataset\n",
    "train = train.drop([\"post_title\", \"post_selftext\", \"comments\", \"post_id\", \"website\", \"doubt\",\"post_author\", \"subreddit_audience_target\", \"subreddit_advertiser_category\", \"post_subreddit_name_prefixed\", \"text\"], axis=1)\n",
    "test = test.drop([\"post_title\", \"post_selftext\", \"comments\", \"post_id\", \"website\", \"doubt\",\"post_author\", \"subreddit_audience_target\", \"subreddit_advertiser_category\", \"post_subreddit_name_prefixed\", \"text\"], axis=1)"
   ]
  },
  {
   "cell_type": "markdown",
   "metadata": {},
   "source": [
    "### Fit and predict the model\n",
    "* Check the classification report from our model\n",
    "* Check the ROC curve and the AUC value of the current model"
   ]
  },
  {
   "cell_type": "code",
   "execution_count": 22,
   "metadata": {
    "ExecuteTime": {
     "end_time": "2018-04-06T00:43:11.465239Z",
     "start_time": "2018-04-06T00:43:11.452679Z"
    }
   },
   "outputs": [],
   "source": [
    "def get_mdl(y):\n",
    "    y = y.values\n",
    "    r = np.log(pr(1,y) / pr(0,y))\n",
    "    m = LogisticRegression(dual=True)\n",
    "    #kfold = model_selection.KFold(n_splits=20, random_state=7)\n",
    "    x_nb = x.multiply(r)\n",
    "    train.score = x_nb\n",
    "    #scores = model_selection.cross_val_score(model, x_nb, y, cv=kfold)\n",
    "    return m.fit(x_nb, y), r"
   ]
  },
  {
   "cell_type": "code",
   "execution_count": 23,
   "metadata": {
    "ExecuteTime": {
     "end_time": "2018-04-06T00:43:15.478272Z",
     "start_time": "2018-04-06T00:43:11.467882Z"
    }
   },
   "outputs": [
    {
     "name": "stderr",
     "output_type": "stream",
     "text": [
      "/Users/antoinegargot/Library/Python/3.6/lib/python/site-packages/ipykernel_launcher.py:7: UserWarning: Pandas doesn't allow columns to be created via a new attribute name - see https://pandas.pydata.org/pandas-docs/stable/indexing.html#attribute-access\n",
      "  import sys\n"
     ]
    },
    {
     "name": "stdout",
     "output_type": "stream",
     "text": [
      "             precision    recall  f1-score   support\n",
      "\n",
      "          0       0.89      0.79      0.84       869\n",
      "          1       0.85      0.93      0.89      1144\n",
      "\n",
      "avg / total       0.87      0.87      0.87      2013\n",
      "\n"
     ]
    }
   ],
   "source": [
    "m,r = get_mdl(train[\"fake\"])\n",
    "print(metrics.classification_report(test[\"fake\"], m.predict(test_x.multiply(r))))"
   ]
  },
  {
   "cell_type": "code",
   "execution_count": 24,
   "metadata": {
    "ExecuteTime": {
     "end_time": "2018-04-06T00:43:16.693042Z",
     "start_time": "2018-04-06T00:43:15.480896Z"
    },
    "scrolled": false
   },
   "outputs": [
    {
     "data": {
      "image/png": "[encoded data removed]",
      "text/plain": [
       "<matplotlib.figure.Figure at 0x11e2f7278>"
      ]
     },
     "metadata": {},
     "output_type": "display_data"
    }
   ],
   "source": [
    "logit_roc_auc = roc_auc_score(test[\"fake\"], m.predict(test_x.multiply(r)))\n",
    "fpr, tpr, thresholds = roc_curve(test[\"fake\"], m.predict_proba(test_x.multiply(r))[:,1])\n",
    "plt.figure()\n",
    "plt.plot(fpr, tpr, label='Logistic Regression (area = %0.2f)' % logit_roc_auc)\n",
    "plt.plot([0, 1], [0, 1],'r--')\n",
    "plt.xlim([0.0, 1.0])\n",
    "plt.ylim([0.0, 1.05])\n",
    "plt.xlabel('False Positive Rate')\n",
    "plt.ylabel('True Positive Rate')\n",
    "plt.title('ROC')\n",
    "plt.legend(loc=\"lower right\")\n",
    "plt.savefig('Log_ROC')\n",
    "plt.show()"
   ]
  },
  {
   "cell_type": "markdown",
   "metadata": {},
   "source": [
    "### Merge dtm with network features"
   ]
  },
  {
   "cell_type": "code",
   "execution_count": 25,
   "metadata": {
    "ExecuteTime": {
     "end_time": "2018-04-06T00:43:16.727034Z",
     "start_time": "2018-04-06T00:43:16.704467Z"
    }
   },
   "outputs": [],
   "source": [
    "def get_mdl(y):\n",
    "    y = y.values\n",
    "    r = np.log(pr(1,y) / pr(0,y))\n",
    "    m = LogisticRegression(dual=True)\n",
    "    #kfold = model_selection.KFold(n_splits=20, random_state=7)\n",
    "    x_nb = x.multiply(r)\n",
    "    train.score = x_nb\n",
    "    #scores = model_selection.cross_val_score(model, x_nb, y, cv=kfold)\n",
    "    features = train.values\n",
    "    training_set = sparse.hstack((x_nb, features.astype(float)))\n",
    "    return m.fit(training_set, y), r"
   ]
  },
  {
   "cell_type": "code",
   "execution_count": 26,
   "metadata": {
    "ExecuteTime": {
     "end_time": "2018-04-06T00:43:26.615477Z",
     "start_time": "2018-04-06T00:43:16.737074Z"
    },
    "scrolled": true
   },
   "outputs": [
    {
     "name": "stdout",
     "output_type": "stream",
     "text": [
      "             precision    recall  f1-score   support\n",
      "\n",
      "          0       0.49      0.61      0.55       869\n",
      "          1       0.64      0.52      0.57      1144\n",
      "\n",
      "avg / total       0.57      0.56      0.56      2013\n",
      "\n"
     ]
    }
   ],
   "source": [
    "m,r = get_mdl(train[\"fake\"])\n",
    "features = test.values\n",
    "print(metrics.classification_report(test[\"fake\"], m.predict(sparse.hstack((test_x.multiply(r), features.astype(float))))))"
   ]
  },
  {
   "cell_type": "code",
   "execution_count": 27,
   "metadata": {
    "ExecuteTime": {
     "end_time": "2018-04-06T00:43:27.786044Z",
     "start_time": "2018-04-06T00:43:26.618159Z"
    }
   },
   "outputs": [
    {
     "name": "stderr",
     "output_type": "stream",
     "text": [
      "/usr/local/Cellar/python3/3.6.4_2/Frameworks/Python.framework/Versions/3.6/lib/python3.6/site-packages/sklearn/linear_model/base.py:352: RuntimeWarning: overflow encountered in exp\n",
      "  np.exp(prob, prob)\n"
     ]
    },
    {
     "data": {
      "image/png": "[encoded data removed]",
      "text/plain": [
       "<matplotlib.figure.Figure at 0x11e308f28>"
      ]
     },
     "metadata": {},
     "output_type": "display_data"
    }
   ],
   "source": [
    "logit_roc_auc = roc_auc_score(test[\"fake\"], m.predict(sparse.hstack((test_x.multiply(r), features.astype(float)))))\n",
    "fpr, tpr, thresholds = roc_curve(test[\"fake\"], m.predict_proba(sparse.hstack((test_x.multiply(r), features.astype(float))))[:,1])\n",
    "plt.figure()\n",
    "plt.plot(fpr, tpr, label='Logistic Regression (area = %0.2f)' % logit_roc_auc)\n",
    "plt.plot([0, 1], [0, 1],'r--')\n",
    "plt.xlim([0.0, 1.0])\n",
    "plt.ylim([0.0, 1.05])\n",
    "plt.xlabel('False Positive Rate')\n",
    "plt.ylabel('True Positive Rate')\n",
    "plt.title('Receiver operating characteristic')\n",
    "plt.legend(loc=\"lower right\")\n",
    "plt.savefig('Log_ROC')\n",
    "plt.show()"
   ]
  },
  {
   "cell_type": "markdown",
   "metadata": {},
   "source": [
    "### Fit and train our model by paritionning the training dataset\n",
    "* Evaluate our model based on various portion of training dataset and fixed testing dataset"
   ]
  },
  {
   "cell_type": "code",
   "execution_count": 59,
   "metadata": {
    "ExecuteTime": {
     "end_time": "2018-04-15T21:18:47.760378Z",
     "start_time": "2018-04-15T21:12:12.765191Z"
    },
    "scrolled": true
   },
   "outputs": [
    {
     "name": "stderr",
     "output_type": "stream",
     "text": [
      "/usr/local/Cellar/python3/3.6.4_2/Frameworks/Python.framework/Versions/3.6/lib/python3.6/site-packages/sklearn/feature_extraction/text.py:1059: FutureWarning: Conversion of the second argument of issubdtype from `float` to `np.floating` is deprecated. In future, it will be treated as `np.float64 == np.dtype(float).type`.\n",
      "  if hasattr(X, 'dtype') and np.issubdtype(X.dtype, np.float):\n"
     ]
    }
   ],
   "source": [
    "accuracies = []\n",
    "recalls = []\n",
    "vec = TfidfVectorizer(ngram_range=(1,2), tokenizer=tokenize,\n",
    "               min_df=3, max_df=0.9, strip_accents='unicode', use_idf=1,\n",
    "               smooth_idf=1, sublinear_tf=1)\n",
    "    \n",
    "for i in range(1, 11):\n",
    "    prob = i / 10\n",
    "    train_sample = train.sample(frac=prob, replace=True)\n",
    "    train_term_doc = vec.fit_transform(train_sample[\"text\"])\n",
    "    test_term_doc = vec.transform(test[\"text\"])\n",
    "    model,r_coef = model_creation(train_sample[\"fake\"], train_term_doc)\n",
    "    accuracies.append(metrics.accuracy_score(test[\"fake\"], model.predict(test_term_doc.multiply(r_coef))))\n",
    "    recalls.append(metrics.recall_score(test[\"fake\"], model.predict(test_term_doc.multiply(r_coef))))\n"
   ]
  },
  {
   "cell_type": "code",
   "execution_count": 65,
   "metadata": {
    "ExecuteTime": {
     "end_time": "2018-04-15T21:23:28.897273Z",
     "start_time": "2018-04-15T21:23:28.662956Z"
    },
    "scrolled": true
   },
   "outputs": [
    {
     "data": {
      "image/png": "[encoded data removed]",
      "text/plain": [
       "<matplotlib.figure.Figure at 0x148aaea58>"
      ]
     },
     "metadata": {},
     "output_type": "display_data"
    }
   ],
   "source": [
    "plt.figure()\n",
    "plt.plot([0.1, 0.2, 0.3, 0.4, 0.5 , 0.6, 0.7, 0.8, 0.9, 1],accuracies)\n",
    "plt.xlabel('Portion of training data')\n",
    "plt.ylabel('Accuracy')\n",
    "plt.title('Accuracy evolution based on portion of training data')\n",
    "plt.show()"
   ]
  },
  {
   "cell_type": "code",
   "execution_count": null,
   "metadata": {},
   "outputs": [],
   "source": []
  }
 ],
 "metadata": {
  "kernelspec": {
   "display_name": "Python 3",
   "language": "python",
   "name": "python3"
  },
  "language_info": {
   "codemirror_mode": {
    "name": "ipython",
    "version": 3
   },
   "file_extension": ".py",
   "mimetype": "text/x-python",
   "name": "python",
   "nbconvert_exporter": "python",
   "pygments_lexer": "ipython3",
   "version": "3.6.4"
  },
  "varInspector": {
   "cols": {
    "lenName": 16,
    "lenType": 16,
    "lenVar": 40
   },
   "kernels_config": {
    "python": {
     "delete_cmd_postfix": "",
     "delete_cmd_prefix": "del ",
     "library": "var_list.py",
     "varRefreshCmd": "print(var_dic_list())"
    },
    "r": {
     "delete_cmd_postfix": ") ",
     "delete_cmd_prefix": "rm(",
     "library": "var_list.r",
     "varRefreshCmd": "cat(var_dic_list()) "
    }
   },
   "types_to_exclude": [
    "module",
    "function",
    "builtin_function_or_method",
    "instance",
    "_Feature"
   ],
   "window_display": false
  }
 },
 "nbformat": 4,
 "nbformat_minor": 2
}
